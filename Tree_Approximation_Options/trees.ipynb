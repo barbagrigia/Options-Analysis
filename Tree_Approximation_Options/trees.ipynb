{
 "cells": [
  {
   "cell_type": "markdown",
   "metadata": {},
   "source": [
    "# Option prices using Tree Approximation methods"
   ]
  },
  {
   "cell_type": "code",
   "execution_count": 1,
   "metadata": {},
   "outputs": [],
   "source": [
    "import pandas as pd\n",
    "import numpy as np\n",
    "import matplotlib.pyplot as plt\n",
    "from datetime import datetime\n",
    "import math as m\n",
    "from scipy.stats import norm as n\n",
    "%matplotlib inline"
   ]
  },
  {
   "cell_type": "markdown",
   "metadata": {},
   "source": [
    "Importing the TSLA option prices for 1M,2M and 4M."
   ]
  },
  {
   "cell_type": "code",
   "execution_count": 2,
   "metadata": {},
   "outputs": [
    {
     "name": "stdout",
     "output_type": "stream",
     "text": [
      "        Date    K    Bid    Ask Type\n",
      "0 2019-05-03  200  68.50  69.90    c\n",
      "1 2019-05-03  210  59.25  60.50    c\n",
      "2 2019-05-03  220  50.00  51.35    c\n",
      "3 2019-05-03  230  41.45  42.65    c\n",
      "4 2019-05-03  240  33.90  34.40    c\n"
     ]
    }
   ],
   "source": [
    "tsla = pd.read_csv('tsla_option.csv',parse_dates = ['Date'])\n",
    "print (tsla.head())"
   ]
  },
  {
   "cell_type": "code",
   "execution_count": 3,
   "metadata": {},
   "outputs": [],
   "source": [
    "S = 268.09 #Stock price at the time.\n",
    "r = 0.025 #Current fed funds rate\n",
    "k = tsla['K']\n",
    "price = (tsla['Bid'] + tsla['Ask'])/2.0\n",
    "date = tsla['Date']\n",
    "ttm = (date.dt.dayofyear - datetime.now().timetuple().tm_yday)/252.0"
   ]
  },
  {
   "cell_type": "markdown",
   "metadata": {},
   "source": [
    "### Black Scholes"
   ]
  },
  {
   "cell_type": "code",
   "execution_count": 4,
   "metadata": {},
   "outputs": [],
   "source": [
    "#Function to calculate the Option price using BSM\n",
    "def BSMOption(S,K,t,r,sigma,type):\n",
    "    d1 = (m.log(S/K)+(r+(sigma**2/2))*t)/(sigma*m.sqrt(t))\n",
    "    d2=d1-sigma*m.sqrt(t)\n",
    "    \n",
    "    if (type=='c'):    \n",
    "        C = S*n.cdf(d1)-(K*m.exp(-r*t)*n.cdf(d2))\n",
    "        return C\n",
    "    else:    \n",
    "        P = K*m.exp(-r*t)*n.cdf(-d2)-S*n.cdf(-d1)\n",
    "        return P"
   ]
  },
  {
   "cell_type": "markdown",
   "metadata": {},
   "source": [
    "### Binomial Tree"
   ]
  },
  {
   "cell_type": "markdown",
   "metadata": {},
   "source": [
    "Option pricing using Binomial trees for Calls, Puts of both EU and AM options."
   ]
  },
  {
   "cell_type": "code",
   "execution_count": 5,
   "metadata": {},
   "outputs": [],
   "source": [
    "#Function to calculate the Option price with the Binomial Tree\n",
    "def BinomialOption(s,K,r,t,sigma,types,kind,N):\n",
    "    \n",
    "    S = np.zeros([N+1,N+1],dtype = float)\n",
    "    O = np.zeros([N+1,N+1], dtype = float)\n",
    "    deltaT = t/N\n",
    "    v = r-((sigma**2)/2.0)\n",
    "    deltaXU = m.sqrt(sigma**2*deltaT +(v*deltaT)**2)\n",
    "    deltaXD = -deltaXU\n",
    "    Pu = 0.5 + 0.5*(v*deltaT)/deltaXU\n",
    "\n",
    "    Pd = 1-Pu\n",
    "    \n",
    "    if(kind=='AM' and types=='p'):\n",
    "        Pu = m.exp(-r*deltaT)*Pu\n",
    "        Pd = 1-Pu\n",
    "    \n",
    "    #Storing the values the stock prices in its respective positions based on the additive binomial tree\n",
    "    for i in range(0,N+1):\n",
    "        for j in range(0,i+1):\n",
    "            if (i==0 and j==0):\n",
    "                S[i][j] = m.exp(s)\n",
    "            else:\n",
    "                S[i][j] = m.exp(s + j*deltaXU + (i-j)*deltaXD)\n",
    "                \n",
    "    #print (\"The Stock Price tree is as follows, \\n\",S)\n",
    "    \n",
    "    #Calculating the Option values at every coordinate.\n",
    "    if (types =='c'):\n",
    "        for z in range(0,N+1):\n",
    "            O[O.shape[0]-1,z] = max(S[S.shape[0]-1,z]-K,0)\n",
    "    else:\n",
    "        for z in range(0,N+1):\n",
    "            O[O.shape[0]-1,z] = max(K-S[S.shape[0]-1,z],0)\n",
    "    \n",
    "    \n",
    "    for p in range(O.shape[0]-2,-1,-1):\n",
    "        for q in range(0,p+1):\n",
    "            if (kind == 'EU' or (kind=='AM' and types=='c')):\n",
    "                O[p,q] =m.exp(-r*deltaT)*(Pu*O[p+1,q+1]+Pd*O[p+1,q])     \n",
    "            else:\n",
    "                O[p,q] =max(m.exp(-r*deltaT)*(Pu*O[p+1,q+1]+Pd*O[p+1,q]),K-S[p][q])\n",
    "    #print (\"The Option tree Prices are as xfollows, \\n\",O)\n",
    " \n",
    "    return O[0,0]"
   ]
  },
  {
   "cell_type": "markdown",
   "metadata": {},
   "source": [
    "### Trinomial Method"
   ]
  },
  {
   "cell_type": "markdown",
   "metadata": {},
   "source": [
    "Option pricing using Trinomial trees for Calls, Puts of both EU and AM options."
   ]
  },
  {
   "cell_type": "code",
   "execution_count": 14,
   "metadata": {},
   "outputs": [],
   "source": [
    "def Trinomial(s,K,t,r,sigma,types,kind,N):\n",
    "    \n",
    "    div = 0.03\n",
    "    S=np.zeros(((2*N)+1,(2*N)+1))\n",
    "    O=np.zeros(((2*N)+1,(2*N)+1))\n",
    "   \n",
    "    dt=t/N\n",
    "    v = r-div-((sigma**2)/2.0)\n",
    "    dx = 0.2\n",
    "            \n",
    "    deltaXU = m.exp(dx)\n",
    "    deltaXD = m.exp(-dx)\n",
    "       \n",
    "    pu = 0.5*(((sigma**2)*dt+(v*dt)**2)/(dx**2)+(v*dt)/dx)\n",
    "    pm = 1-((sigma**2)*dt+((v*dt)**2))/(dx**2)\n",
    "    pd = 1-(pm+pu)\n",
    "    \n",
    "    #Storing the Stock prices into the Numpy array\n",
    "    k = int((2*N+1)/2)\n",
    "    S[k,0] = m.exp(s) \n",
    "    for j in range(1,N+1):\n",
    "        for i in range(k-j+1,k+j-1+1):    \n",
    "            S[i-1,j] = S[i,j-1]*deltaXU\n",
    "            S[i,j] = S[i,j-1]\n",
    "            S[i+1,j] = S[i,j-1]*deltaXD\n",
    "            \n",
    "    \n",
    "    #Calculating the Option prices of the extreme nodes\n",
    "    if (types =='c'):\n",
    "        for z in range(0,2*N+1):\n",
    "            O[z,N] = max(S[z,N]-K,0)\n",
    "            \n",
    "    else:\n",
    "        for z in range(0,2*N+1):\n",
    "            O[z,N] = max(K-S[z,N],0)\n",
    "    \n",
    "    #Calculating the option price        \n",
    "    for j in range(N,0,-1):\n",
    "        for i in range(N+1-j+1,N+1+j-1+1):\n",
    "            if (kind == 'EU' or (kind=='AM' and types=='c')):\n",
    "                O[i-1,j-1] = m.exp(-r*dt)*(pu*O[i-2,j]+pm*O[i-1,j]+pd*O[i,j])\n",
    "            else:\n",
    "                O[i-1,j-1] = max(m.exp(-r*dt)*(pu*O[i-2,j]+pm*O[i-1,j]+pd*O[i,j]),K-S[i-1,j-1])\n",
    "    \n",
    "    \n",
    "    \n",
    "    return O[k,0]"
   ]
  },
  {
   "cell_type": "markdown",
   "metadata": {},
   "source": [
    "### Bisection Method"
   ]
  },
  {
   "cell_type": "code",
   "execution_count": 6,
   "metadata": {},
   "outputs": [],
   "source": [
    "#Calculating the implied Volatility using the Bisection Method\n",
    "def bisect(S,K,r,t,types,MP):\n",
    "    time1 = datetime.now()\n",
    "    a = 0.0001       #Minimum Value\n",
    "    b = 1       #Maximum Value\n",
    "    N = 1       #Number of iterations\n",
    "    tol = 10**-4\n",
    "    \n",
    "    f = lambda s:BSMOption(S,K,t,r,s,types)-MP         \n",
    "    \n",
    "    while N<=100:\n",
    "        sig = (a+b)/2.0\n",
    "        if f(sig)==0 or (b-a)/2<tol:\n",
    "            time2 = datetime.now()\n",
    "            t = time2-time1\n",
    "            return sig\n",
    "        N = N + 1\n",
    "        if np.sign(f(sig))==np.sign(f(a)):\n",
    "            a = sig\n",
    "        else:\n",
    "            b = sig\n",
    "    print (\"Did not converge\")\n",
    "    "
   ]
  },
  {
   "cell_type": "markdown",
   "metadata": {},
   "source": [
    "Computing Implied Volatility"
   ]
  },
  {
   "cell_type": "code",
   "execution_count": 7,
   "metadata": {},
   "outputs": [],
   "source": [
    "iv = list(map(lambda x1,x2,x3:bisect(S,x1,r,x2,'c',x3),k,ttm,price))\n",
    "bsm = list(map(lambda x1,x2,x3:BSMOption(S,x1,x2,r,x3,'c'),k,ttm,iv))"
   ]
  },
  {
   "cell_type": "markdown",
   "metadata": {},
   "source": [
    "Binomial and Trinomial Price for EU and AM"
   ]
  },
  {
   "cell_type": "code",
   "execution_count": 15,
   "metadata": {},
   "outputs": [],
   "source": [
    "N = 200 # Number of steps in trees     #s,K,t,r,sigma,types,kind,div,N\n",
    "binomial_eu = list(map(lambda x1,x2,x3 :BinomialOption(np.log(S),x1,r,x2,x3,'c','EU',N),k,ttm,iv))\n",
    "binomial_am = list(map(lambda x1,x2,x3 :BinomialOption(np.log(S),x1,r,x2,x3,'c','AM',N),k,ttm,iv))\n",
    "trinomial_eu = list(map(lambda x1,x2,x3 :Trinomial(np.log(S),x1,x2,r,x3,'c','EU',N),k,ttm,iv))\n",
    "trinomial_am = list(map(lambda x1,x2,x3 :Trinomial(np.log(S),x1,x2,r,x3,'c','AM',N),k,ttm,iv))"
   ]
  },
  {
   "cell_type": "markdown",
   "metadata": {},
   "source": [
    "#### Plotting the Market Price vs Binomial Price"
   ]
  },
  {
   "cell_type": "code",
   "execution_count": 16,
   "metadata": {},
   "outputs": [],
   "source": [
    "df = pd.DataFrame({'Binomial EU':binomial_eu,'Binomial AM':binomial_am,'Bid':tsla['Bid'],'Ask':tsla['Ask'],'BSM':bsm,\n",
    "                  'Trinomial EU':trinomial_eu,'Trinomial AM':trinomial_am})"
   ]
  },
  {
   "cell_type": "code",
   "execution_count": 17,
   "metadata": {},
   "outputs": [
    {
     "name": "stdout",
     "output_type": "stream",
     "text": [
      "   Binomial EU  Binomial AM    Bid    Ask        BSM  Trinomial EU  \\\n",
      "0    69.199760    69.199760  68.50  69.90  69.199922     69.223187   \n",
      "1    59.868655    59.868655  59.25  60.50  59.874687     59.660951   \n",
      "2    50.679955    50.679955  50.00  51.35  50.675580     49.957950   \n",
      "3    42.055880    42.055880  41.45  42.65  42.050032     42.181591   \n",
      "4    34.142816    34.142816  33.90  34.40  34.150442     34.378477   \n",
      "\n",
      "   Trinomial AM  \n",
      "0     69.223187  \n",
      "1     59.660951  \n",
      "2     49.957950  \n",
      "3     42.181591  \n",
      "4     34.378477  \n"
     ]
    },
    {
     "data": {
      "text/plain": [
       "<matplotlib.axes._subplots.AxesSubplot at 0x7f252f381908>"
      ]
     },
     "execution_count": 17,
     "metadata": {},
     "output_type": "execute_result"
    },
    {
     "data": {
      "image/png": "[encoded data removed]",
      "text/plain": [
       "<Figure size 576x432 with 1 Axes>"
      ]
     },
     "metadata": {
      "needs_background": "light"
     },
     "output_type": "display_data"
    }
   ],
   "source": [
    "print (df.head())\n",
    "df.plot(figsize=(8,6))"
   ]
  },
  {
   "cell_type": "markdown",
   "metadata": {},
   "source": [
    "Plotting the Absolute error vs N"
   ]
  },
  {
   "cell_type": "code",
   "execution_count": 20,
   "metadata": {},
   "outputs": [],
   "source": [
    "#Calculating the Absolute Error using the Trinomial Tree for the European Puts\n",
    "def AbsError(S,K,r,t,sigma,type):\n",
    "    \n",
    "    N=[10,20,30,40,50,100,150,200,250,300,350,400]\n",
    "    Err = []\n",
    "    for i in range(0,len(N)):\n",
    "        bs=BSMOption(S,K,t,r,sigma,type)\n",
    "        ti=Trinomial(m.log(S),K,t,r,sigma,type,'EU',N[i])\n",
    "        Err.append(abs(bs-ti))\n",
    "    \n",
    "    dfa = pd.DataFrame({'Error':Err,'N':N})\n",
    "    print (\"\\n\",dfa)\n",
    "    plt.plot(N,Err)\n",
    "    plt.show()\n",
    "    plt.xlabel = \"N:Number of steps\"\n",
    "    plt.ylabel = \"Absolute Error\"\n",
    "    plt.title = \"Absolute Error vs N\""
   ]
  },
  {
   "cell_type": "code",
   "execution_count": 23,
   "metadata": {},
   "outputs": [
    {
     "name": "stdout",
     "output_type": "stream",
     "text": [
      "\n",
      "        Error    N\n",
      "0   0.269277   10\n",
      "1   0.239260   20\n",
      "2   0.229647   30\n",
      "3   0.224912   40\n",
      "4   0.222093   50\n",
      "5   0.216505  100\n",
      "6   0.214657  150\n",
      "7   0.213735  200\n",
      "8   0.213183  250\n",
      "9   0.212816  300\n",
      "10  0.212553  350\n",
      "11  0.212357  400\n"
     ]
    },
    {
     "data": {
      "image/png": "[encoded data removed]",
      "text/plain": [
       "<Figure size 432x288 with 1 Axes>"
      ]
     },
     "metadata": {
      "needs_background": "light"
     },
     "output_type": "display_data"
    }
   ],
   "source": [
    "AbsError(S,k.loc[1],r,ttm.loc[1],iv[1],'c')"
   ]
  },
  {
   "cell_type": "markdown",
   "metadata": {},
   "source": [
    "As we can observe above that the error has stagnated at N=200 and doesn't decrease anymore as the steps increase. "
   ]
  }
 ],
 "metadata": {
  "kernelspec": {
   "display_name": "Python 3",
   "language": "python",
   "name": "python3"
  },
  "language_info": {
   "codemirror_mode": {
    "name": "ipython",
    "version": 3
   },
   "file_extension": ".py",
   "mimetype": "text/x-python",
   "name": "python",
   "nbconvert_exporter": "python",
   "pygments_lexer": "ipython3",
   "version": "3.6.7"
  }
 },
 "nbformat": 4,
 "nbformat_minor": 2
}
