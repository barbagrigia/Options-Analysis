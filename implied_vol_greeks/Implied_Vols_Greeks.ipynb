{
 "cells": [
  {
   "cell_type": "markdown",
   "metadata": {},
   "source": [
    "# Implied Volatility and Greeks"
   ]
  },
  {
   "cell_type": "markdown",
   "metadata": {},
   "source": [
    "Importing required libraries"
   ]
  },
  {
   "cell_type": "code",
   "execution_count": 37,
   "metadata": {
    "collapsed": true
   },
   "outputs": [],
   "source": [
    "import math as m\n",
    "from scipy.stats import norm as n\n",
    "import pandas as pd\n",
    "from datetime import datetime\n",
    "import matplotlib.pyplot as plt\n",
    "import numpy as np\n",
    "from mpl_toolkits import mplot3d\n",
    "\n",
    "%matplotlib inline"
   ]
  },
  {
   "cell_type": "code",
   "execution_count": 12,
   "metadata": {
    "scrolled": true
   },
   "outputs": [
    {
     "name": "stdout",
     "output_type": "stream",
     "text": [
      "(721, 4)\n",
      "(600, 4)\n",
      "        Date     T    K   Price\n",
      "0  3/20/2009  0.07  850    0.45\n",
      "1  3/20/2009  0.07  875    0.60\n",
      "2  3/20/2009  0.07  900    0.15\n",
      "3  3/20/2009  0.07  200  569.80\n",
      "4  3/20/2009  0.07  300  469.95\n",
      "5  3/20/2009  0.07  325  444.95\n",
      "6  3/20/2009  0.07  350  420.05\n",
      "7  3/20/2009  0.07  375  395.15\n",
      "8  3/20/2009  0.07  400  370.25\n",
      "9  3/20/2009  0.07  425  345.35\n"
     ]
    }
   ],
   "source": [
    "df = pd.read_csv('SPX.csv')\n",
    "print (df.shape)\n",
    "df = df.drop_duplicates(subset=['Date','K'],keep='first')\n",
    "df = df.reset_index(drop=True)\n",
    "print (df.shape)\n",
    "print (df.head(10))"
   ]
  },
  {
   "cell_type": "markdown",
   "metadata": {},
   "source": [
    "Considering only the call options for analysis."
   ]
  },
  {
   "cell_type": "code",
   "execution_count": 13,
   "metadata": {
    "collapsed": true
   },
   "outputs": [],
   "source": [
    "S = 770.05      #Stock Price of Google\n",
    "r = 0.05      #Risk Free Rate\n",
    "t = df['T']\n",
    "Price = df['Price']\n",
    "K = df['K']"
   ]
  },
  {
   "cell_type": "markdown",
   "metadata": {},
   "source": [
    "Useful functions"
   ]
  },
  {
   "cell_type": "markdown",
   "metadata": {},
   "source": [
    "#### Black Scholes Merton Model"
   ]
  },
  {
   "cell_type": "code",
   "execution_count": 14,
   "metadata": {
    "collapsed": true
   },
   "outputs": [],
   "source": [
    "#Function to calculate the Option price using BSM\n",
    "def BSMOption(S,K,t,r,sigma,type):\n",
    "    \n",
    "    d1 = (np.log(S/K)+(r+((sigma**2)/2))*t)/(sigma*np.sqrt(t))\n",
    "    d2=d1-sigma*np.sqrt(t)\n",
    "    \n",
    "    if (type=='c'):    \n",
    "        C = S*n.cdf(d1)-(K*np.exp(-r*t)*n.cdf(d2))\n",
    "        return C\n",
    "    else:    \n",
    "        P = K*np.exp(-r*t)*n.cdf(-d2)-S*n.cdf(-d1)\n",
    "        return P"
   ]
  },
  {
   "cell_type": "markdown",
   "metadata": {},
   "source": [
    "### Root Finding Methods"
   ]
  },
  {
   "cell_type": "markdown",
   "metadata": {},
   "source": [
    "#### Bisection Method"
   ]
  },
  {
   "cell_type": "code",
   "execution_count": 15,
   "metadata": {
    "collapsed": true
   },
   "outputs": [],
   "source": [
    "#Calculating the implied Volatility using the Bisection Method\n",
    "def bisect(S,K,r,t,types,MP):\n",
    "    time1 = datetime.now()\n",
    "    a = 0.0001       #Minimum Value\n",
    "    b = 1       #Maximum Value\n",
    "    N = 1       #Number of iterations\n",
    "    tol = 10**-4\n",
    "    \n",
    "    f = lambda s:BSMOption(S,K,t,r,s,types)-MP         \n",
    "    \n",
    "    while N<=100:\n",
    "        sig = (a+b)/2.0\n",
    "        if f(sig)==0 or (b-a)/2<tol:\n",
    "            time2 = datetime.now()\n",
    "            t = time2-time1\n",
    "            return sig\n",
    "        N = N + 1\n",
    "        if np.sign(f(sig))==np.sign(f(a)):\n",
    "            a = sig\n",
    "        else:\n",
    "            b = sig\n",
    "    print (\"Did not converge\")\n",
    "    "
   ]
  },
  {
   "cell_type": "markdown",
   "metadata": {},
   "source": [
    "#### Secant Method"
   ]
  },
  {
   "cell_type": "markdown",
   "metadata": {},
   "source": [
    "This method is slightly faster than Newton method since there is no need to calculate the vega of the derivative which might sometimes be impossible to calculate. This is where we could use a Numerical approximation in Finite difference method."
   ]
  },
  {
   "cell_type": "code",
   "execution_count": 16,
   "metadata": {
    "collapsed": true
   },
   "outputs": [],
   "source": [
    "#Calculating the implied Volatility using the Secant Method\n",
    "def secant(S,K,r,t,types,MP):\n",
    "    time1 = datetime.now()\n",
    "    x0 = 0.1\n",
    "    xx = 1\n",
    "    tolerance = 10**-7\n",
    "    epsilon = 10**(-14)\n",
    "    \n",
    "    maxIterations = 100\n",
    "    SolutionFound = False\n",
    "    \n",
    "    #Anonymous function to calculate the Implied volatility using the Secant Method\n",
    "    f = lambda s:BSMOption(S,K,t,r,s,types)-MP         \n",
    "    \n",
    "    for i in range(maxIterations):\n",
    "        y = f(x0)\n",
    "        yprime = (f(x0)-f(xx))/(x0-xx)      \n",
    "        \n",
    "        if (abs(yprime)<epsilon):\n",
    "            break\n",
    "        \n",
    "        x1 = x0 - y/yprime\n",
    "        \n",
    "        if (abs(x1-x0)<=tolerance*abs(x1)):\n",
    "            SolutionFound = True\n",
    "            break\n",
    "        \n",
    "        x0 = x1\n",
    "    \n",
    "    if (SolutionFound):\n",
    "        time2 = datetime.now()\n",
    "        t = time2 - time1\n",
    "        return x1\n",
    "    else:\n",
    "        pass"
   ]
  },
  {
   "cell_type": "markdown",
   "metadata": {},
   "source": [
    "#### Newton Method"
   ]
  },
  {
   "cell_type": "markdown",
   "metadata": {},
   "source": [
    "It is faster than the Bisection method but to converge quickly, there is a need to make an approximate guess."
   ]
  },
  {
   "cell_type": "code",
   "execution_count": 17,
   "metadata": {
    "collapsed": true
   },
   "outputs": [],
   "source": [
    "#Calculating the implied Volatility using the Newton Method\n",
    "def newton(S,K,r,t,types,MP):\n",
    "    time1 = datetime.now()\n",
    "    x0 = 1\n",
    "    maxIterations =100\n",
    "    \n",
    "    epsilon = 10**-14\n",
    "    tolerance = 10**-7\n",
    "    solutionFound = False\n",
    "    #Anonymous function to calculate the Implied volatility using the Newton Method\n",
    "    f = lambda s:BSMOption(S,K,t,r,s,types)-MP  \n",
    "    \n",
    "    fprime = lambda sig:S*np.sqrt(t)*(1/np.sqrt(2*np.pi))*np.exp((-((np.log(S/K)+(r+((sig**2)/2))*t)/(sig*np.sqrt(t)))**2)/2)\n",
    "    \n",
    "    for i in range(maxIterations):\n",
    "        \n",
    "        y = f(x0)\n",
    "        vega = fprime(x0)\n",
    "        \n",
    "        if (abs(vega)<epsilon):\n",
    "            break\n",
    "        \n",
    "        x1 = x0 - y/vega\n",
    "        if (abs(x1-x0)<=tolerance*abs(x1)):\n",
    "            solutionFound = True\n",
    "            break\n",
    "        x0=x1\n",
    "    \n",
    "    if (solutionFound):\n",
    "        time2 = datetime.now()\n",
    "        t = time2 - time1\n",
    "        return x1\n",
    "    else:\n",
    "        pass \n",
    "        "
   ]
  },
  {
   "cell_type": "markdown",
   "metadata": {},
   "source": [
    "Calculating the implied vols using all the 3 above methods"
   ]
  },
  {
   "cell_type": "code",
   "execution_count": 18,
   "metadata": {
    "collapsed": true
   },
   "outputs": [],
   "source": [
    "volb = [];vols=[];voln=[];bsm =[];\n",
    "#Loop over options in the CSV file\n",
    "for i in range(0,len(K)):\n",
    "    volb.append(bisect(S,K.iloc[i],r,t.iloc[i],'c',Price.iloc[i]))\n",
    "    bsm.append(BSMOption(S,K.iloc[i],t.iloc[i],r,volb[i],'c'))\n",
    "    vols.append(secant(S,K.iloc[i],r,t.iloc[i],'c',Price.iloc[i]))\n",
    "    voln.append(newton(S,K.iloc[i],r,t.iloc[i],'c',Price.iloc[i]))"
   ]
  },
  {
   "cell_type": "code",
   "execution_count": 19,
   "metadata": {
    "collapsed": true
   },
   "outputs": [],
   "source": [
    "#Showcasing the values\n",
    "df1 = pd.DataFrame({'Date':t,'K':K,'Bisection':volb,'Secant':vols,'Newton':voln,'MP':Price,'BSM':bsm})\n",
    "df1.to_csv('vols_using_roots.csv',index=False)"
   ]
  },
  {
   "cell_type": "code",
   "execution_count": 20,
   "metadata": {},
   "outputs": [
    {
     "data": {
      "text/html": [
       "<div>\n",
       "<style scoped>\n",
       "    .dataframe tbody tr th:only-of-type {\n",
       "        vertical-align: middle;\n",
       "    }\n",
       "\n",
       "    .dataframe tbody tr th {\n",
       "        vertical-align: top;\n",
       "    }\n",
       "\n",
       "    .dataframe thead th {\n",
       "        text-align: right;\n",
       "    }\n",
       "</style>\n",
       "<table border=\"1\" class=\"dataframe\">\n",
       "  <thead>\n",
       "    <tr style=\"text-align: right;\">\n",
       "      <th></th>\n",
       "      <th>Date</th>\n",
       "      <th>K</th>\n",
       "      <th>Bisection</th>\n",
       "      <th>Secant</th>\n",
       "      <th>Newton</th>\n",
       "      <th>MP</th>\n",
       "      <th>BSM</th>\n",
       "    </tr>\n",
       "  </thead>\n",
       "  <tbody>\n",
       "    <tr>\n",
       "      <th>0</th>\n",
       "      <td>0.07</td>\n",
       "      <td>850</td>\n",
       "      <td>0.189717</td>\n",
       "      <td>0.189712</td>\n",
       "      <td>0.189712</td>\n",
       "      <td>0.45</td>\n",
       "      <td>0.450073</td>\n",
       "    </tr>\n",
       "    <tr>\n",
       "      <th>1</th>\n",
       "      <td>0.07</td>\n",
       "      <td>875</td>\n",
       "      <td>0.247695</td>\n",
       "      <td>0.247752</td>\n",
       "      <td>0.247752</td>\n",
       "      <td>0.60</td>\n",
       "      <td>0.599176</td>\n",
       "    </tr>\n",
       "    <tr>\n",
       "      <th>2</th>\n",
       "      <td>0.07</td>\n",
       "      <td>900</td>\n",
       "      <td>0.241348</td>\n",
       "      <td>NaN</td>\n",
       "      <td>0.241362</td>\n",
       "      <td>0.15</td>\n",
       "      <td>0.149927</td>\n",
       "    </tr>\n",
       "    <tr>\n",
       "      <th>3</th>\n",
       "      <td>0.07</td>\n",
       "      <td>200</td>\n",
       "      <td>0.999939</td>\n",
       "      <td>NaN</td>\n",
       "      <td>NaN</td>\n",
       "      <td>569.80</td>\n",
       "      <td>570.748779</td>\n",
       "    </tr>\n",
       "    <tr>\n",
       "      <th>4</th>\n",
       "      <td>0.07</td>\n",
       "      <td>300</td>\n",
       "      <td>0.999939</td>\n",
       "      <td>NaN</td>\n",
       "      <td>NaN</td>\n",
       "      <td>469.95</td>\n",
       "      <td>471.103585</td>\n",
       "    </tr>\n",
       "    <tr>\n",
       "      <th>5</th>\n",
       "      <td>0.07</td>\n",
       "      <td>325</td>\n",
       "      <td>0.999939</td>\n",
       "      <td>NaN</td>\n",
       "      <td>NaN</td>\n",
       "      <td>444.95</td>\n",
       "      <td>446.203933</td>\n",
       "    </tr>\n",
       "    <tr>\n",
       "      <th>6</th>\n",
       "      <td>0.07</td>\n",
       "      <td>350</td>\n",
       "      <td>0.999939</td>\n",
       "      <td>NaN</td>\n",
       "      <td>NaN</td>\n",
       "      <td>420.05</td>\n",
       "      <td>421.326020</td>\n",
       "    </tr>\n",
       "    <tr>\n",
       "      <th>7</th>\n",
       "      <td>0.07</td>\n",
       "      <td>375</td>\n",
       "      <td>0.999939</td>\n",
       "      <td>NaN</td>\n",
       "      <td>NaN</td>\n",
       "      <td>395.15</td>\n",
       "      <td>396.494217</td>\n",
       "    </tr>\n",
       "    <tr>\n",
       "      <th>8</th>\n",
       "      <td>0.07</td>\n",
       "      <td>400</td>\n",
       "      <td>0.999939</td>\n",
       "      <td>NaN</td>\n",
       "      <td>NaN</td>\n",
       "      <td>370.25</td>\n",
       "      <td>371.749258</td>\n",
       "    </tr>\n",
       "    <tr>\n",
       "      <th>9</th>\n",
       "      <td>0.07</td>\n",
       "      <td>425</td>\n",
       "      <td>0.999939</td>\n",
       "      <td>NaN</td>\n",
       "      <td>NaN</td>\n",
       "      <td>345.35</td>\n",
       "      <td>347.152296</td>\n",
       "    </tr>\n",
       "    <tr>\n",
       "      <th>10</th>\n",
       "      <td>0.07</td>\n",
       "      <td>440</td>\n",
       "      <td>0.999939</td>\n",
       "      <td>NaN</td>\n",
       "      <td>NaN</td>\n",
       "      <td>0.00</td>\n",
       "      <td>332.499037</td>\n",
       "    </tr>\n",
       "    <tr>\n",
       "      <th>11</th>\n",
       "      <td>0.07</td>\n",
       "      <td>450</td>\n",
       "      <td>0.999939</td>\n",
       "      <td>NaN</td>\n",
       "      <td>NaN</td>\n",
       "      <td>320.55</td>\n",
       "      <td>322.787035</td>\n",
       "    </tr>\n",
       "    <tr>\n",
       "      <th>12</th>\n",
       "      <td>0.07</td>\n",
       "      <td>475</td>\n",
       "      <td>0.999939</td>\n",
       "      <td>NaN</td>\n",
       "      <td>NaN</td>\n",
       "      <td>295.75</td>\n",
       "      <td>298.759151</td>\n",
       "    </tr>\n",
       "    <tr>\n",
       "      <th>13</th>\n",
       "      <td>0.07</td>\n",
       "      <td>490</td>\n",
       "      <td>0.999939</td>\n",
       "      <td>NaN</td>\n",
       "      <td>NaN</td>\n",
       "      <td>280.95</td>\n",
       "      <td>284.555405</td>\n",
       "    </tr>\n",
       "    <tr>\n",
       "      <th>14</th>\n",
       "      <td>0.07</td>\n",
       "      <td>500</td>\n",
       "      <td>0.999939</td>\n",
       "      <td>NaN</td>\n",
       "      <td>NaN</td>\n",
       "      <td>271.10</td>\n",
       "      <td>275.192793</td>\n",
       "    </tr>\n",
       "  </tbody>\n",
       "</table>\n",
       "</div>"
      ],
      "text/plain": [
       "    Date    K  Bisection    Secant    Newton      MP         BSM\n",
       "0   0.07  850   0.189717  0.189712  0.189712    0.45    0.450073\n",
       "1   0.07  875   0.247695  0.247752  0.247752    0.60    0.599176\n",
       "2   0.07  900   0.241348       NaN  0.241362    0.15    0.149927\n",
       "3   0.07  200   0.999939       NaN       NaN  569.80  570.748779\n",
       "4   0.07  300   0.999939       NaN       NaN  469.95  471.103585\n",
       "5   0.07  325   0.999939       NaN       NaN  444.95  446.203933\n",
       "6   0.07  350   0.999939       NaN       NaN  420.05  421.326020\n",
       "7   0.07  375   0.999939       NaN       NaN  395.15  396.494217\n",
       "8   0.07  400   0.999939       NaN       NaN  370.25  371.749258\n",
       "9   0.07  425   0.999939       NaN       NaN  345.35  347.152296\n",
       "10  0.07  440   0.999939       NaN       NaN    0.00  332.499037\n",
       "11  0.07  450   0.999939       NaN       NaN  320.55  322.787035\n",
       "12  0.07  475   0.999939       NaN       NaN  295.75  298.759151\n",
       "13  0.07  490   0.999939       NaN       NaN  280.95  284.555405\n",
       "14  0.07  500   0.999939       NaN       NaN  271.10  275.192793"
      ]
     },
     "execution_count": 20,
     "metadata": {},
     "output_type": "execute_result"
    }
   ],
   "source": [
    "df1.head(15)"
   ]
  },
  {
   "cell_type": "markdown",
   "metadata": {},
   "source": [
    "The NaNs are due to the Market Price being smaller than the Theoretical Price (Black Scholes price)."
   ]
  },
  {
   "cell_type": "markdown",
   "metadata": {},
   "source": [
    "### Volatility Smile"
   ]
  },
  {
   "cell_type": "code",
   "execution_count": 38,
   "metadata": {},
   "outputs": [
    {
     "data": {
      "text/html": [
       "<div>\n",
       "<style scoped>\n",
       "    .dataframe tbody tr th:only-of-type {\n",
       "        vertical-align: middle;\n",
       "    }\n",
       "\n",
       "    .dataframe tbody tr th {\n",
       "        vertical-align: top;\n",
       "    }\n",
       "\n",
       "    .dataframe thead th {\n",
       "        text-align: right;\n",
       "    }\n",
       "</style>\n",
       "<table border=\"1\" class=\"dataframe\">\n",
       "  <thead>\n",
       "    <tr style=\"text-align: right;\">\n",
       "      <th></th>\n",
       "      <th>K</th>\n",
       "      <th>Bisection</th>\n",
       "      <th>Secant</th>\n",
       "      <th>Newton</th>\n",
       "      <th>MP</th>\n",
       "      <th>BSM</th>\n",
       "    </tr>\n",
       "    <tr>\n",
       "      <th>Date</th>\n",
       "      <th></th>\n",
       "      <th></th>\n",
       "      <th></th>\n",
       "      <th></th>\n",
       "      <th></th>\n",
       "      <th></th>\n",
       "    </tr>\n",
       "  </thead>\n",
       "  <tbody>\n",
       "    <tr>\n",
       "      <th>0.07</th>\n",
       "      <td>850</td>\n",
       "      <td>0.189717</td>\n",
       "      <td>0.189712</td>\n",
       "      <td>0.189712</td>\n",
       "      <td>0.45</td>\n",
       "      <td>0.450073</td>\n",
       "    </tr>\n",
       "    <tr>\n",
       "      <th>0.07</th>\n",
       "      <td>875</td>\n",
       "      <td>0.247695</td>\n",
       "      <td>0.247752</td>\n",
       "      <td>0.247752</td>\n",
       "      <td>0.60</td>\n",
       "      <td>0.599176</td>\n",
       "    </tr>\n",
       "    <tr>\n",
       "      <th>0.07</th>\n",
       "      <td>550</td>\n",
       "      <td>0.514636</td>\n",
       "      <td>0.514623</td>\n",
       "      <td>0.514623</td>\n",
       "      <td>222.15</td>\n",
       "      <td>222.150038</td>\n",
       "    </tr>\n",
       "    <tr>\n",
       "      <th>0.07</th>\n",
       "      <td>560</td>\n",
       "      <td>0.549178</td>\n",
       "      <td>0.549174</td>\n",
       "      <td>0.549174</td>\n",
       "      <td>212.45</td>\n",
       "      <td>212.450028</td>\n",
       "    </tr>\n",
       "    <tr>\n",
       "      <th>0.07</th>\n",
       "      <td>575</td>\n",
       "      <td>0.564680</td>\n",
       "      <td>0.564731</td>\n",
       "      <td>0.564731</td>\n",
       "      <td>197.95</td>\n",
       "      <td>197.949489</td>\n",
       "    </tr>\n",
       "  </tbody>\n",
       "</table>\n",
       "</div>"
      ],
      "text/plain": [
       "        K  Bisection    Secant    Newton      MP         BSM\n",
       "Date                                                        \n",
       "0.07  850   0.189717  0.189712  0.189712    0.45    0.450073\n",
       "0.07  875   0.247695  0.247752  0.247752    0.60    0.599176\n",
       "0.07  550   0.514636  0.514623  0.514623  222.15  222.150038\n",
       "0.07  560   0.549178  0.549174  0.549174  212.45  212.450028\n",
       "0.07  575   0.564680  0.564731  0.564731  197.95  197.949489"
      ]
     },
     "execution_count": 38,
     "metadata": {},
     "output_type": "execute_result"
    }
   ],
   "source": [
    "vols = pd.read_csv('vols_using_roots.csv',index_col=['Date'])\n",
    "#Dropping nans\n",
    "vols.dropna(inplace=True)\n",
    "vols.head()"
   ]
  },
  {
   "cell_type": "code",
   "execution_count": 39,
   "metadata": {},
   "outputs": [
    {
     "data": {
      "text/html": [
       "<div>\n",
       "<style scoped>\n",
       "    .dataframe tbody tr th:only-of-type {\n",
       "        vertical-align: middle;\n",
       "    }\n",
       "\n",
       "    .dataframe tbody tr th {\n",
       "        vertical-align: top;\n",
       "    }\n",
       "\n",
       "    .dataframe thead th {\n",
       "        text-align: right;\n",
       "    }\n",
       "</style>\n",
       "<table border=\"1\" class=\"dataframe\">\n",
       "  <thead>\n",
       "    <tr style=\"text-align: right;\">\n",
       "      <th></th>\n",
       "      <th>K</th>\n",
       "      <th>Bisection</th>\n",
       "      <th>Secant</th>\n",
       "      <th>Newton</th>\n",
       "      <th>MP</th>\n",
       "      <th>BSM</th>\n",
       "    </tr>\n",
       "    <tr>\n",
       "      <th>Date</th>\n",
       "      <th></th>\n",
       "      <th></th>\n",
       "      <th></th>\n",
       "      <th></th>\n",
       "      <th></th>\n",
       "      <th></th>\n",
       "    </tr>\n",
       "  </thead>\n",
       "  <tbody>\n",
       "    <tr>\n",
       "      <th>0.07</th>\n",
       "      <td>550</td>\n",
       "      <td>0.514636</td>\n",
       "      <td>0.514623</td>\n",
       "      <td>0.514623</td>\n",
       "      <td>222.15</td>\n",
       "      <td>222.150038</td>\n",
       "    </tr>\n",
       "    <tr>\n",
       "      <th>0.07</th>\n",
       "      <td>560</td>\n",
       "      <td>0.549178</td>\n",
       "      <td>0.549174</td>\n",
       "      <td>0.549174</td>\n",
       "      <td>212.45</td>\n",
       "      <td>212.450028</td>\n",
       "    </tr>\n",
       "    <tr>\n",
       "      <th>0.07</th>\n",
       "      <td>575</td>\n",
       "      <td>0.564680</td>\n",
       "      <td>0.564731</td>\n",
       "      <td>0.564731</td>\n",
       "      <td>197.95</td>\n",
       "      <td>197.949489</td>\n",
       "    </tr>\n",
       "    <tr>\n",
       "      <th>0.07</th>\n",
       "      <td>580</td>\n",
       "      <td>0.567487</td>\n",
       "      <td>0.567483</td>\n",
       "      <td>0.567483</td>\n",
       "      <td>193.15</td>\n",
       "      <td>193.150043</td>\n",
       "    </tr>\n",
       "    <tr>\n",
       "      <th>0.07</th>\n",
       "      <td>590</td>\n",
       "      <td>0.573712</td>\n",
       "      <td>0.573712</td>\n",
       "      <td>0.573712</td>\n",
       "      <td>183.65</td>\n",
       "      <td>183.650002</td>\n",
       "    </tr>\n",
       "  </tbody>\n",
       "</table>\n",
       "</div>"
      ],
      "text/plain": [
       "        K  Bisection    Secant    Newton      MP         BSM\n",
       "Date                                                        \n",
       "0.07  550   0.514636  0.514623  0.514623  222.15  222.150038\n",
       "0.07  560   0.549178  0.549174  0.549174  212.45  212.450028\n",
       "0.07  575   0.564680  0.564731  0.564731  197.95  197.949489\n",
       "0.07  580   0.567487  0.567483  0.567483  193.15  193.150043\n",
       "0.07  590   0.573712  0.573712  0.573712  183.65  183.650002"
      ]
     },
     "execution_count": 39,
     "metadata": {},
     "output_type": "execute_result"
    }
   ],
   "source": [
    "vols = vols.sort_values(by=['Date','K','Newton'],ascending=[True,True,True])\n",
    "vols.head()"
   ]
  },
  {
   "cell_type": "code",
   "execution_count": 40,
   "metadata": {
    "collapsed": true
   },
   "outputs": [],
   "source": [
    "vols = vols[(vols['K']>600) & (vols['K']<1200)]"
   ]
  },
  {
   "cell_type": "markdown",
   "metadata": {},
   "source": [
    "#### 2- D Plot"
   ]
  },
  {
   "cell_type": "code",
   "execution_count": 41,
   "metadata": {},
   "outputs": [
    {
     "data": {
      "image/png": "[encoded data removed]",
      "text/plain": [
       "<Figure size 432x288 with 1 Axes>"
      ]
     },
     "metadata": {},
     "output_type": "display_data"
    }
   ],
   "source": [
    "#Aggregate\n",
    "plt.plot(vols.loc[0.15]['K'],vols.loc[0.15]['Newton'],'g')\n",
    "plt.plot(vols.loc[0.22]['K'],vols.loc[0.22]['Newton'],'r')\n",
    "plt.plot(vols.loc[0.57]['K'],vols.loc[0.57]['Newton'],'b')\n",
    "plt.xlabel(\"K\")\n",
    "plt.ylabel(\"Newton. Implied Volatility\")\n",
    "plt.title(\"Volatility Smile\")\n",
    "plt.legend([0.15,0.22,0.57])\n",
    "\n",
    "plt.savefig('Volatility Smile.png')"
   ]
  },
  {
   "cell_type": "markdown",
   "metadata": {},
   "source": [
    "#### 3- D Plot"
   ]
  },
  {
   "cell_type": "code",
   "execution_count": 46,
   "metadata": {},
   "outputs": [
    {
     "data": {
      "text/plain": [
       "Float64Index([0.15, 0.22, 0.57], dtype='float64', name='Date')"
      ]
     },
     "execution_count": 46,
     "metadata": {},
     "output_type": "execute_result"
    }
   ],
   "source": [
    "vols = vols.loc[[0.15,0.22,0.57]]\n",
    "vols.index.unique()"
   ]
  },
  {
   "cell_type": "code",
   "execution_count": 52,
   "metadata": {},
   "outputs": [
    {
     "data": {
      "text/plain": [
       "Text(0.5, 0, 'Implied Vol')"
      ]
     },
     "execution_count": 52,
     "metadata": {},
     "output_type": "execute_result"
    },
    {
     "data": {
      "image/png": "[encoded data removed]",
      "text/plain": [
       "<Figure size 648x432 with 1 Axes>"
      ]
     },
     "metadata": {},
     "output_type": "display_data"
    }
   ],
   "source": [
    "fig = plt.figure(figsize=(9,6))\n",
    "ax = fig.gca(projection='3d')\n",
    "d3 = ax.scatter(vols['K'],vols.index,vols['Newton'],s=20,c=None,depthshade=True)\n",
    "\n",
    "ax.set_xlabel('Strike')\n",
    "ax.set_ylabel('Time to Maturity')\n",
    "ax.set_zlabel('Implied Vol')"
   ]
  },
  {
   "cell_type": "markdown",
   "metadata": {},
   "source": [
    "### Greeks"
   ]
  },
  {
   "cell_type": "markdown",
   "metadata": {},
   "source": [
    "Greeks are measures which can tell the sensitivity of an option's price based on different factors."
   ]
  },
  {
   "cell_type": "markdown",
   "metadata": {},
   "source": [
    "\n",
    "$\n",
    "Delta:\\Delta = \\partial C / \\partial S\n",
    "\\\\ Gamma: \\gamma = \\partial^2 C / \\partial S^2\n",
    "\\\\ Vega: \\nu = \\partial C / \\partial \\sigma\n",
    "$"
   ]
  },
  {
   "cell_type": "markdown",
   "metadata": {},
   "source": [
    "#### Analytical Solution"
   ]
  },
  {
   "cell_type": "code",
   "execution_count": 71,
   "metadata": {
    "collapsed": true
   },
   "outputs": [],
   "source": [
    "#Greeks using the Analytical Formula       \n",
    "def Greeks(S,K,t,r,sigma):\n",
    "    d1 = (m.log(S/K)+(r+(sigma**2/2))*t)/(sigma*m.sqrt(t))\n",
    "    NDashd1 = (1/m.sqrt(2*m.pi))*m.exp((-d1**2)/2) \n",
    "    Delta = n.cdf(d1)\n",
    "    Gamma = NDashd1/(S*sigma*m.sqrt(t))\n",
    "    Vega = S*m.sqrt(t)*NDashd1\n",
    "    return Delta,Gamma,Vega"
   ]
  },
  {
   "cell_type": "code",
   "execution_count": 56,
   "metadata": {
    "collapsed": true
   },
   "outputs": [],
   "source": [
    "greeks = []\n",
    "for i in range(vols.shape[0]):\n",
    "    greeks.append(Greeks(S,vols['K'].iloc[i],vols.index[i],r,vols['Newton'].iloc[i]))"
   ]
  },
  {
   "cell_type": "code",
   "execution_count": 63,
   "metadata": {},
   "outputs": [
    {
     "data": {
      "text/html": [
       "<div>\n",
       "<style scoped>\n",
       "    .dataframe tbody tr th:only-of-type {\n",
       "        vertical-align: middle;\n",
       "    }\n",
       "\n",
       "    .dataframe tbody tr th {\n",
       "        vertical-align: top;\n",
       "    }\n",
       "\n",
       "    .dataframe thead th {\n",
       "        text-align: right;\n",
       "    }\n",
       "</style>\n",
       "<table border=\"1\" class=\"dataframe\">\n",
       "  <thead>\n",
       "    <tr style=\"text-align: right;\">\n",
       "      <th></th>\n",
       "      <th>Delta</th>\n",
       "      <th>Gamma</th>\n",
       "      <th>Vega</th>\n",
       "    </tr>\n",
       "  </thead>\n",
       "  <tbody>\n",
       "    <tr>\n",
       "      <th>0</th>\n",
       "      <td>0.954890</td>\n",
       "      <td>0.000816</td>\n",
       "      <td>19.349468</td>\n",
       "    </tr>\n",
       "    <tr>\n",
       "      <th>1</th>\n",
       "      <td>0.949995</td>\n",
       "      <td>0.000889</td>\n",
       "      <td>21.014139</td>\n",
       "    </tr>\n",
       "    <tr>\n",
       "      <th>2</th>\n",
       "      <td>0.945056</td>\n",
       "      <td>0.000963</td>\n",
       "      <td>22.645727</td>\n",
       "    </tr>\n",
       "    <tr>\n",
       "      <th>3</th>\n",
       "      <td>0.939441</td>\n",
       "      <td>0.001044</td>\n",
       "      <td>24.446562</td>\n",
       "    </tr>\n",
       "    <tr>\n",
       "      <th>4</th>\n",
       "      <td>0.933769</td>\n",
       "      <td>0.001126</td>\n",
       "      <td>26.210948</td>\n",
       "    </tr>\n",
       "  </tbody>\n",
       "</table>\n",
       "</div>"
      ],
      "text/plain": [
       "      Delta     Gamma       Vega\n",
       "0  0.954890  0.000816  19.349468\n",
       "1  0.949995  0.000889  21.014139\n",
       "2  0.945056  0.000963  22.645727\n",
       "3  0.939441  0.001044  24.446562\n",
       "4  0.933769  0.001126  26.210948"
      ]
     },
     "execution_count": 63,
     "metadata": {},
     "output_type": "execute_result"
    }
   ],
   "source": [
    "analytical_df = pd.DataFrame(greeks)\n",
    "analytical_df.columns = ['Delta','Gamma','Vega']\n",
    "analytical_df.head()"
   ]
  },
  {
   "cell_type": "markdown",
   "metadata": {},
   "source": [
    "#### Finite difference approximations"
   ]
  },
  {
   "cell_type": "markdown",
   "metadata": {},
   "source": [
    "Although there is no need of the approximations method since we have a closed form solutions for the Greeks. It is slightly faster and sometimes speed might be more important than the exact solution."
   ]
  },
  {
   "cell_type": "code",
   "execution_count": 65,
   "metadata": {
    "collapsed": true
   },
   "outputs": [],
   "source": [
    "#Greeks using the FDM Approximations\n",
    "def GreeksFDM(S,K,t,r,sigma):\n",
    "    \n",
    "    #price and sigma increment\n",
    "    d_s = 0.001\n",
    "    \n",
    "    CDelta = (BSMOption(S+d_s,K,t,r,sigma,'c') -BSMOption(S,K,t,r,sigma,'c'))/d_s\n",
    "    \n",
    "    CGamma = (BSMOption(S+d_s,K,t,r,sigma,'c') -2*BSMOption(S,K,t,r,sigma,'c')+BSMOption(S-d_s,K,t,r,sigma,'c'))/(d_s**2)\n",
    "    \n",
    "    CVega = (BSMOption(S,K,t,r,sigma+d_s,'c') -BSMOption(S,K,t,r,sigma,'c'))/d_s\n",
    "    \n",
    "    return CDelta,CGamma,CVega"
   ]
  },
  {
   "cell_type": "code",
   "execution_count": 66,
   "metadata": {
    "collapsed": true
   },
   "outputs": [],
   "source": [
    "greeks = []\n",
    "for i in range(vols.shape[0]):\n",
    "    greeks.append(GreeksFDM(S,vols['K'].iloc[i],vols.index[i],r,vols['Newton'].iloc[i]))"
   ]
  },
  {
   "cell_type": "code",
   "execution_count": 67,
   "metadata": {},
   "outputs": [
    {
     "data": {
      "text/html": [
       "<div>\n",
       "<style scoped>\n",
       "    .dataframe tbody tr th:only-of-type {\n",
       "        vertical-align: middle;\n",
       "    }\n",
       "\n",
       "    .dataframe tbody tr th {\n",
       "        vertical-align: top;\n",
       "    }\n",
       "\n",
       "    .dataframe thead th {\n",
       "        text-align: right;\n",
       "    }\n",
       "</style>\n",
       "<table border=\"1\" class=\"dataframe\">\n",
       "  <thead>\n",
       "    <tr style=\"text-align: right;\">\n",
       "      <th></th>\n",
       "      <th>Delta</th>\n",
       "      <th>Gamma</th>\n",
       "      <th>Vega</th>\n",
       "    </tr>\n",
       "  </thead>\n",
       "  <tbody>\n",
       "    <tr>\n",
       "      <th>0</th>\n",
       "      <td>0.954890</td>\n",
       "      <td>0.000816</td>\n",
       "      <td>19.393717</td>\n",
       "    </tr>\n",
       "    <tr>\n",
       "      <th>1</th>\n",
       "      <td>0.949995</td>\n",
       "      <td>0.000889</td>\n",
       "      <td>21.059462</td>\n",
       "    </tr>\n",
       "    <tr>\n",
       "      <th>2</th>\n",
       "      <td>0.945056</td>\n",
       "      <td>0.000963</td>\n",
       "      <td>22.692015</td>\n",
       "    </tr>\n",
       "    <tr>\n",
       "      <th>3</th>\n",
       "      <td>0.939441</td>\n",
       "      <td>0.001044</td>\n",
       "      <td>24.493584</td>\n",
       "    </tr>\n",
       "    <tr>\n",
       "      <th>4</th>\n",
       "      <td>0.933770</td>\n",
       "      <td>0.001126</td>\n",
       "      <td>26.258601</td>\n",
       "    </tr>\n",
       "  </tbody>\n",
       "</table>\n",
       "</div>"
      ],
      "text/plain": [
       "      Delta     Gamma       Vega\n",
       "0  0.954890  0.000816  19.393717\n",
       "1  0.949995  0.000889  21.059462\n",
       "2  0.945056  0.000963  22.692015\n",
       "3  0.939441  0.001044  24.493584\n",
       "4  0.933770  0.001126  26.258601"
      ]
     },
     "execution_count": 67,
     "metadata": {},
     "output_type": "execute_result"
    }
   ],
   "source": [
    "fdm_df = pd.DataFrame(greeks)\n",
    "fdm_df.columns = ['Delta','Gamma','Vega']\n",
    "fdm_df.head()"
   ]
  }
 ],
 "metadata": {
  "kernelspec": {
   "display_name": "Python 3",
   "language": "python",
   "name": "python3"
  },
  "language_info": {
   "codemirror_mode": {
    "name": "ipython",
    "version": 3
   },
   "file_extension": ".py",
   "mimetype": "text/x-python",
   "name": "python",
   "nbconvert_exporter": "python",
   "pygments_lexer": "ipython3",
   "version": "3.6.7"
  }
 },
 "nbformat": 4,
 "nbformat_minor": 2
}
